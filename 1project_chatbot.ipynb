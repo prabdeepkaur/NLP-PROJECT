{
  "nbformat": 4,
  "nbformat_minor": 0,
  "metadata": {
    "colab": {
      "provenance": [],
      "authorship_tag": "ABX9TyN5L6tYrqGz6VCvWdmw+2PJ"
    },
    "kernelspec": {
      "name": "python3",
      "display_name": "Python 3"
    },
    "language_info": {
      "name": "python"
    }
  },
  "cells": [
    {
      "cell_type": "code",
      "source": [
        "# Simple University FAQ Chatbot (TF-IDF, no NLTK)\n",
        "# Paste the entire block below into ONE new Colab cell and run.\n",
        "\n",
        "import pandas as pd\n",
        "from sklearn.feature_extraction.text import TfidfVectorizer\n",
        "from sklearn.metrics.pairwise import cosine_similarity\n",
        "import numpy as np\n",
        "\n",
        "# Sample FAQ dataset\n",
        "data = {\n",
        "    \"Question\": [\n",
        "        \"What are the admission requirements?\",\n",
        "        \"How can I apply for admission?\",\n",
        "        \"What is the annual tuition fee?\",\n",
        "        \"When do semester exams start?\",\n",
        "        \"How can I access the timetable?\",\n",
        "        \"Is hostel accommodation available?\",\n",
        "        \"What facilities are provided in the hostel?\",\n",
        "        \"How can I contact the administration?\",\n",
        "        \"What scholarships are available for students?\",\n",
        "        \"How can I check my exam results?\"\n",
        "    ],\n",
        "    \"Answer\": [\n",
        "        \"You need to submit your 12th grade marks, ID proof, and completed application form.\",\n",
        "        \"You can apply online through the university website's admission portal.\",\n",
        "        \"The annual tuition fee is around ₹1,00,000 depending on the course.\",\n",
        "        \"Semester exams usually start in December and May each year.\",\n",
        "        \"You can access the timetable through the student portal or notice board.\",\n",
        "        \"Yes, hostel accommodation is available for both boys and girls.\",\n",
        "        \"The hostel provides Wi-Fi, mess facilities, laundry, and 24/7 security.\",\n",
        "        \"You can contact administration via email at admin@university.edu or visit the office.\",\n",
        "        \"Merit-based and need-based scholarships are available for eligible students.\",\n",
        "        \"Exam results are available on the official student results portal.\"\n",
        "    ]\n",
        "}\n",
        "\n",
        "df = pd.DataFrame(data)\n",
        "\n",
        "# TF-IDF Vectorization\n",
        "# Use scikit-learn's built-in english stop words to avoid extra dependencies\n",
        "vectorizer = TfidfVectorizer(stop_words='english', ngram_range=(1,2))\n",
        "X = vectorizer.fit_transform(df['Question'].str.lower())  # store lowercased questions\n",
        "\n",
        "# Chat loop (no functions)\n",
        "print(\"🤖 University FAQ Chatbot (type 'exit' to stop)\")\n",
        "print(\"Ask about: admissions, fees, timetable, hostel, exams, scholarships, contact...\\n\")\n",
        "\n",
        "threshold = 0.25\n",
        "\n",
        "while True:\n",
        "    user_query = input(\"You: \").strip()\n",
        "    if not user_query:\n",
        "        print(\"Bot: Please type a question (or 'exit' to quit).\")\n",
        "        continue\n",
        "    if user_query.lower() in ('exit','quit','bye'):\n",
        "        print(\"Bot: Goodbye! 👋\")\n",
        "        break\n",
        "\n",
        "    q_proc = user_query.lower()\n",
        "    q_vec = vectorizer.transform([q_proc])\n",
        "    sims = cosine_similarity(q_vec, X).flatten()\n",
        "    best_idx = int(np.argmax(sims))\n",
        "    best_score = float(sims[best_idx])\n",
        "\n",
        "    if best_score < threshold:\n",
        "        print(\"Bot: Sorry, I couldn't find a close match. Try rephrasing or contact admin@university.edu.\")\n",
        "    else:\n",
        "        print(f\"Bot: {df.iloc[best_idx]['Answer']}  (score: {best_score:.2f})\")\n"
      ],
      "metadata": {
        "colab": {
          "base_uri": "https://localhost:8080/"
        },
        "id": "-FORUg27QhMT",
        "outputId": "71413d7c-8c18-4ea4-bebb-647de2c06795"
      },
      "execution_count": null,
      "outputs": [
        {
          "output_type": "stream",
          "name": "stdout",
          "text": [
            "🤖 University FAQ Chatbot (type 'exit' to stop)\n",
            "Ask about: admissions, fees, timetable, hostel, exams, scholarships, contact...\n",
            "\n"
          ]
        }
      ]
    }
  ]
}